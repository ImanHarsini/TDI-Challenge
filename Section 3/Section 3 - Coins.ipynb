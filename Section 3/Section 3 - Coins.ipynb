{
 "cells": [
  {
   "cell_type": "code",
   "execution_count": 41,
   "metadata": {},
   "outputs": [],
   "source": [
    "import numpy as np"
   ]
  },
  {
   "cell_type": "code",
   "execution_count": 42,
   "metadata": {},
   "outputs": [],
   "source": [
    "payment10=np.zeros((100000,1))\n",
    "\n",
    "for i in range(100000):\n",
    "    coins = np.random.choice(np.arange(start = 1, stop = 11), 10, replace = False)\n",
    "    payment10[i]= coins[0]\n",
    "    for j in range(9):\n",
    "        payment10[i] = payment10[i] + np.absolute(coins[j+1]-coins[j])"
   ]
  },
  {
   "cell_type": "code",
   "execution_count": 43,
   "metadata": {},
   "outputs": [],
   "source": [
    "avg = payment10.mean()\n",
    "std = payment10.std()"
   ]
  },
  {
   "cell_type": "code",
   "execution_count": 44,
   "metadata": {},
   "outputs": [
    {
     "name": "stdout",
     "output_type": "stream",
     "text": [
      "Average payment for 10 coins is 38.50503 and standard deviation is 6.37849\n"
     ]
    }
   ],
   "source": [
    "print(\"Average payment for% 2d coins is% 5.5f and standard deviation is% 5.5f\" %(len(coins),avg, std))  "
   ]
  },
  {
   "cell_type": "code",
   "execution_count": 48,
   "metadata": {},
   "outputs": [],
   "source": [
    "payment20=np.zeros((1000000,1))\n",
    "\n",
    "for i in range(1000000):\n",
    "    coins = np.random.choice(np.arange(start = 1, stop = 21), 20, replace = False)\n",
    "    payment20[i]= coins[0]\n",
    "    for j in range(19):\n",
    "        payment20[i] = payment20[i] + np.absolute(coins[j+1]-coins[j])"
   ]
  },
  {
   "cell_type": "code",
   "execution_count": 49,
   "metadata": {},
   "outputs": [],
   "source": [
    "avg = payment20.mean()\n",
    "std = payment20.std()"
   ]
  },
  {
   "cell_type": "code",
   "execution_count": 51,
   "metadata": {},
   "outputs": [
    {
     "name": "stdout",
     "output_type": "stream",
     "text": [
      "Average payment for 20 coins is 143.55150 and standard deviation is 18.43601\n"
     ]
    }
   ],
   "source": [
    "print(\"Average payment for% 2d coins is% 5.5f and standard deviation is% 5.5f\" %(len(coins),avg, std))  "
   ]
  },
  {
   "cell_type": "code",
   "execution_count": 52,
   "metadata": {},
   "outputs": [],
   "source": [
    "prob10 = sum(payment10>=45)/len(payment10)\n",
    "prob20 = sum(payment20>=160)/len(payment20)"
   ]
  },
  {
   "cell_type": "code",
   "execution_count": 53,
   "metadata": {},
   "outputs": [
    {
     "name": "stdout",
     "output_type": "stream",
     "text": [
      "Probablity of payment >= 45 for 10 coins is 0.18271 and probablity of payment >= 160 for 20 coins is 0.19911\n"
     ]
    }
   ],
   "source": [
    "print(\"Probablity of payment >= 45 for 10 coins is% 5.5f and probablity of payment >= 160 for 20 coins is% 5.5f\" %(prob10, prob20))  "
   ]
  }
 ],
 "metadata": {
  "kernelspec": {
   "display_name": "Python 3",
   "language": "python",
   "name": "python3"
  },
  "language_info": {
   "codemirror_mode": {
    "name": "ipython",
    "version": 3
   },
   "file_extension": ".py",
   "mimetype": "text/x-python",
   "name": "python",
   "nbconvert_exporter": "python",
   "pygments_lexer": "ipython3",
   "version": "3.7.6"
  }
 },
 "nbformat": 4,
 "nbformat_minor": 4
}
