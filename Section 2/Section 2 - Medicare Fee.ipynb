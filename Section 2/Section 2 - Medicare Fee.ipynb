{
 "cells": [
  {
   "cell_type": "code",
   "execution_count": 203,
   "metadata": {},
   "outputs": [],
   "source": [
    "import numpy as np\n",
    "import pandas as pd"
   ]
  },
  {
   "cell_type": "markdown",
   "metadata": {},
   "source": [
    "### Importing Data"
   ]
  },
  {
   "cell_type": "code",
   "execution_count": 208,
   "metadata": {},
   "outputs": [],
   "source": [
    "df17 = pd.read_table(\"PartD_Prescriber_PUF_NPI_17.txt\", header = None)"
   ]
  },
  {
   "cell_type": "code",
   "execution_count": 209,
   "metadata": {},
   "outputs": [],
   "source": [
    "new_header = df17.iloc[0] \n",
    "df17 = df17[1:] \n",
    "df17.columns = new_header"
   ]
  },
  {
   "cell_type": "markdown",
   "metadata": {},
   "source": [
    "### Question 1"
   ]
  },
  {
   "cell_type": "code",
   "execution_count": 210,
   "metadata": {},
   "outputs": [],
   "source": [
    "df17['bene_count'] = df17['bene_count'].apply(pd.to_numeric, downcast='float', errors='coerce')"
   ]
  },
  {
   "cell_type": "code",
   "execution_count": 213,
   "metadata": {},
   "outputs": [],
   "source": [
    "dftenplusben=df17[df17['bene_count']>10]"
   ]
  },
  {
   "cell_type": "code",
   "execution_count": 214,
   "metadata": {},
   "outputs": [
    {
     "data": {
      "text/plain": [
       "158.3494585173676"
      ]
     },
     "execution_count": 214,
     "metadata": {},
     "output_type": "execute_result"
    }
   ],
   "source": [
    "dftenplusben['bene_count'].mean()"
   ]
  },
  {
   "cell_type": "markdown",
   "metadata": {},
   "source": [
    "### Question 2"
   ]
  },
  {
   "cell_type": "code",
   "execution_count": 215,
   "metadata": {},
   "outputs": [],
   "source": [
    "df17['total_day_supply'] = df17['total_day_supply'].apply(pd.to_numeric, downcast='float', errors='coerce')\n",
    "df17['total_claim_count'] = df17['total_claim_count'].apply(pd.to_numeric, downcast='float', errors='coerce')"
   ]
  },
  {
   "cell_type": "code",
   "execution_count": 216,
   "metadata": {},
   "outputs": [],
   "source": [
    "df17['len_avg_prsc'] = df17['total_day_supply']/df17['total_claim_count']"
   ]
  },
  {
   "cell_type": "code",
   "execution_count": 217,
   "metadata": {},
   "outputs": [
    {
     "data": {
      "text/plain": [
       "29.7125748502994"
      ]
     },
     "execution_count": 217,
     "metadata": {},
     "output_type": "execute_result"
    }
   ],
   "source": [
    "df17['len_avg_prsc'].median()"
   ]
  },
  {
   "cell_type": "markdown",
   "metadata": {},
   "source": [
    "### Question 3"
   ]
  },
  {
   "cell_type": "code",
   "execution_count": 218,
   "metadata": {},
   "outputs": [],
   "source": [
    "df17['total_claim_count'] = df17['total_claim_count'].apply(pd.to_numeric, downcast='float', errors='coerce')\n",
    "df17['brand_claim_count'] = df17['brand_claim_count'].apply(pd.to_numeric, downcast='float', errors='coerce')"
   ]
  },
  {
   "cell_type": "code",
   "execution_count": 219,
   "metadata": {},
   "outputs": [],
   "source": [
    "ttl_brnd_spc=df17[['total_claim_count','brand_claim_count','specialty_description']]"
   ]
  },
  {
   "cell_type": "code",
   "execution_count": 220,
   "metadata": {},
   "outputs": [],
   "source": [
    "ttl_brnd_spc = ttl_brnd_spc.dropna()"
   ]
  },
  {
   "cell_type": "code",
   "execution_count": 221,
   "metadata": {},
   "outputs": [],
   "source": [
    "avg_total_claim_by_spc = ttl_brnd_spc.groupby('specialty_description')['total_claim_count'].mean()"
   ]
  },
  {
   "cell_type": "code",
   "execution_count": 222,
   "metadata": {},
   "outputs": [],
   "source": [
    "avg_brand_claim_by_spc = ttl_brnd_spc.groupby('specialty_description')['brand_claim_count'].mean()"
   ]
  },
  {
   "cell_type": "code",
   "execution_count": 223,
   "metadata": {},
   "outputs": [],
   "source": [
    "merged = pd.merge(avg_brand_claim_by_spc,avg_total_claim_by_spc,how='left', on='specialty_description')"
   ]
  },
  {
   "cell_type": "code",
   "execution_count": 224,
   "metadata": {},
   "outputs": [],
   "source": [
    "ratio = merged[merged['total_claim_count']>1000]"
   ]
  },
  {
   "cell_type": "code",
   "execution_count": 225,
   "metadata": {},
   "outputs": [],
   "source": [
    "rat = ratio['brand_claim_count']/ratio['total_claim_count']"
   ]
  },
  {
   "cell_type": "code",
   "execution_count": 226,
   "metadata": {},
   "outputs": [
    {
     "data": {
      "text/plain": [
       "0.09806160427441014"
      ]
     },
     "execution_count": 226,
     "metadata": {},
     "output_type": "execute_result"
    }
   ],
   "source": [
    "np.std(rat)"
   ]
  },
  {
   "cell_type": "markdown",
   "metadata": {},
   "source": [
    "### Question 4"
   ]
  },
  {
   "cell_type": "code",
   "execution_count": 227,
   "metadata": {},
   "outputs": [],
   "source": [
    "df17['opioid_bene_count'] = df17['opioid_bene_count'].apply(pd.to_numeric, downcast='float', errors='coerce')\n",
    "df17['antibiotic_bene_count'] = df17['antibiotic_bene_count'].apply(pd.to_numeric, downcast='float', errors='coerce')"
   ]
  },
  {
   "cell_type": "code",
   "execution_count": 228,
   "metadata": {},
   "outputs": [],
   "source": [
    "grouped_by_state = df17.groupby('nppes_provider_state').apply(lambda x: x['opioid_bene_count'].sum()/x['antibiotic_bene_count'].sum())"
   ]
  },
  {
   "cell_type": "code",
   "execution_count": 229,
   "metadata": {},
   "outputs": [
    {
     "data": {
      "text/plain": [
       "0.6331097230267027"
      ]
     },
     "execution_count": 229,
     "metadata": {},
     "output_type": "execute_result"
    }
   ],
   "source": [
    "grouped_by_state.dropna().max()-grouped_by_state.dropna().min()"
   ]
  },
  {
   "cell_type": "markdown",
   "metadata": {},
   "source": [
    "### Question 5"
   ]
  },
  {
   "cell_type": "code",
   "execution_count": 231,
   "metadata": {},
   "outputs": [],
   "source": [
    "df17['total_claim_count_ge65'] = df17['total_claim_count_ge65'].apply(pd.to_numeric, downcast='float', errors='coerce')\n",
    "df17['lis_claim_count'] = df17['lis_claim_count'].apply(pd.to_numeric, downcast='float', errors='coerce')"
   ]
  },
  {
   "cell_type": "code",
   "execution_count": 232,
   "metadata": {},
   "outputs": [],
   "source": [
    "lis_ge65 = df17[['total_claim_count_ge65','lis_claim_count']]"
   ]
  },
  {
   "cell_type": "code",
   "execution_count": 233,
   "metadata": {},
   "outputs": [],
   "source": [
    "lis_ge65 = lis_ge65.dropna()"
   ]
  },
  {
   "cell_type": "code",
   "execution_count": 234,
   "metadata": {},
   "outputs": [
    {
     "data": {
      "text/plain": [
       "0.8067444425923481"
      ]
     },
     "execution_count": 234,
     "metadata": {},
     "output_type": "execute_result"
    }
   ],
   "source": [
    "lis_ge65['total_claim_count_ge65'].corr(lis_ge65['lis_claim_count'], method ='pearson')"
   ]
  },
  {
   "cell_type": "markdown",
   "metadata": {},
   "source": [
    "### Question 6"
   ]
  },
  {
   "cell_type": "code",
   "execution_count": 235,
   "metadata": {},
   "outputs": [],
   "source": [
    "df17['opioid_day_supply'] = df17['opioid_day_supply'].apply(pd.to_numeric, downcast='float', errors='coerce')\n",
    "df17['opioid_claim_count'] = df17['opioid_claim_count'].apply(pd.to_numeric, downcast='float', errors='coerce')"
   ]
  },
  {
   "cell_type": "code",
   "execution_count": 236,
   "metadata": {},
   "outputs": [],
   "source": [
    "df17['opi_avg_len'] = df17['opioid_day_supply']/df17['opioid_claim_count']"
   ]
  },
  {
   "cell_type": "code",
   "execution_count": 237,
   "metadata": {},
   "outputs": [],
   "source": [
    "st_sp_pair = pd.pivot_table(df17,index = 'nppes_provider_state',values = 'opi_avg_len', columns ='specialty_description')"
   ]
  },
  {
   "cell_type": "code",
   "execution_count": 238,
   "metadata": {},
   "outputs": [],
   "source": [
    "st_sp_pair_t = st_sp_pair.transpose()\n",
    "st_sp_pair_t['national_avg'] = st_sp_pair_t.sum(axis=1)/61"
   ]
  },
  {
   "cell_type": "code",
   "execution_count": 239,
   "metadata": {},
   "outputs": [],
   "source": [
    "max_rat_st=st_sp_pair_t.fillna(0).div(st_sp_pair_t['national_avg'],axis = 0).max()"
   ]
  },
  {
   "cell_type": "code",
   "execution_count": 240,
   "metadata": {},
   "outputs": [
    {
     "data": {
      "text/plain": [
       "61.00000000000001"
      ]
     },
     "execution_count": 240,
     "metadata": {},
     "output_type": "execute_result"
    }
   ],
   "source": [
    "max_rat_st.max()"
   ]
  },
  {
   "cell_type": "markdown",
   "metadata": {},
   "source": [
    "### Question 7"
   ]
  },
  {
   "cell_type": "code",
   "execution_count": 241,
   "metadata": {},
   "outputs": [],
   "source": [
    "df16 = pd.read_table(\"PartD_Prescriber_PUF_NPI_16.txt\", header = None)"
   ]
  },
  {
   "cell_type": "code",
   "execution_count": 242,
   "metadata": {},
   "outputs": [],
   "source": [
    "new_header = df16.iloc[0] \n",
    "df16 = df16[1:] \n",
    "df16.columns = new_header"
   ]
  },
  {
   "cell_type": "code",
   "execution_count": 243,
   "metadata": {},
   "outputs": [],
   "source": [
    "df17['total_drug_cost'] = df17['total_drug_cost'].apply(pd.to_numeric, downcast='float', errors='coerce')\n",
    "df17['total_day_supply'] = df17['total_day_supply'].apply(pd.to_numeric, downcast='float', errors='coerce')\n",
    "df16['total_drug_cost'] = df16['total_drug_cost'].apply(pd.to_numeric, downcast='float', errors='coerce')\n",
    "df16['total_day_supply'] = df16['total_day_supply'].apply(pd.to_numeric, downcast='float', errors='coerce')"
   ]
  },
  {
   "cell_type": "code",
   "execution_count": 244,
   "metadata": {},
   "outputs": [],
   "source": [
    "df17['avg_cost_per_day']=df17['total_drug_cost']/df17['total_day_supply']\n",
    "df17_inf=df17[['npi','avg_cost_per_day']]"
   ]
  },
  {
   "cell_type": "code",
   "execution_count": 245,
   "metadata": {},
   "outputs": [],
   "source": [
    "df16['avg_cost_per_day']=df16['total_drug_cost']/df16['total_day_supply']\n",
    "df16_inf=df16[['npi','avg_cost_per_day']]"
   ]
  },
  {
   "cell_type": "code",
   "execution_count": 246,
   "metadata": {},
   "outputs": [],
   "source": [
    "merged=pd.merge(df16_inf,df17_inf,how='left',on='npi')"
   ]
  },
  {
   "cell_type": "code",
   "execution_count": 247,
   "metadata": {},
   "outputs": [],
   "source": [
    "inf = (merged['avg_cost_per_day_y']-merged['avg_cost_per_day_x'])/merged['avg_cost_per_day_x']"
   ]
  },
  {
   "cell_type": "code",
   "execution_count": 248,
   "metadata": {},
   "outputs": [
    {
     "data": {
      "text/plain": [
       "0.22753794096423402"
      ]
     },
     "execution_count": 248,
     "metadata": {},
     "output_type": "execute_result"
    }
   ],
   "source": [
    "inf.mean()"
   ]
  },
  {
   "cell_type": "markdown",
   "metadata": {},
   "source": [
    "### Question 8"
   ]
  },
  {
   "cell_type": "code",
   "execution_count": 376,
   "metadata": {},
   "outputs": [],
   "source": [
    "def_spc16 = df16[['npi','specialty_description']]"
   ]
  },
  {
   "cell_type": "code",
   "execution_count": 377,
   "metadata": {},
   "outputs": [],
   "source": [
    "def_spc17 = df17[['npi','specialty_description']]"
   ]
  },
  {
   "cell_type": "code",
   "execution_count": 378,
   "metadata": {},
   "outputs": [],
   "source": [
    "merged=pd.merge(def_spc16,def_spc17,how='left',on ='npi')"
   ]
  },
  {
   "cell_type": "code",
   "execution_count": 379,
   "metadata": {},
   "outputs": [],
   "source": [
    "npi_by_spc16=merged.groupby('specialty_description_x')['npi'].count()"
   ]
  },
  {
   "cell_type": "code",
   "execution_count": 380,
   "metadata": {},
   "outputs": [],
   "source": [
    "npi_by_spc16=pd.Series.to_frame(npi_by_spc16)"
   ]
  },
  {
   "cell_type": "code",
   "execution_count": 381,
   "metadata": {},
   "outputs": [],
   "source": [
    "npi_by_spc16=npi_by_spc16.reset_index()"
   ]
  },
  {
   "cell_type": "code",
   "execution_count": 382,
   "metadata": {},
   "outputs": [],
   "source": [
    "npi_by_spc16= npi_by_spc16.rename(columns={'specialty_description_x': 'spc'})"
   ]
  },
  {
   "cell_type": "code",
   "execution_count": 383,
   "metadata": {},
   "outputs": [],
   "source": [
    "npi_by_spc17=merged.groupby('specialty_description_y')['npi'].count()"
   ]
  },
  {
   "cell_type": "code",
   "execution_count": 384,
   "metadata": {},
   "outputs": [],
   "source": [
    "npi_by_spc17=pd.Series.to_frame(npi_by_spc17)"
   ]
  },
  {
   "cell_type": "code",
   "execution_count": 385,
   "metadata": {},
   "outputs": [],
   "source": [
    "npi_by_spc17=npi_by_spc17.reset_index()"
   ]
  },
  {
   "cell_type": "code",
   "execution_count": 388,
   "metadata": {},
   "outputs": [],
   "source": [
    "npi_by_spc17= npi_by_spc17.rename(columns={'specialty_description_y': 'spc'})"
   ]
  },
  {
   "cell_type": "code",
   "execution_count": 389,
   "metadata": {},
   "outputs": [],
   "source": [
    "merged2=pd.merge(npi_by_spc16,npi_by_spc17,how='left',on='spc')"
   ]
  },
  {
   "cell_type": "code",
   "execution_count": 392,
   "metadata": {},
   "outputs": [],
   "source": [
    "ratio=(merged2['npi_y']-merged2['npi_x'])/merged2['npi_x']"
   ]
  },
  {
   "cell_type": "code",
   "execution_count": 397,
   "metadata": {},
   "outputs": [
    {
     "data": {
      "text/plain": [
       "-0.8333333333333334"
      ]
     },
     "execution_count": 397,
     "metadata": {},
     "output_type": "execute_result"
    }
   ],
   "source": [
    "ratio.min()"
   ]
  }
 ],
 "metadata": {
  "kernelspec": {
   "display_name": "Python 3",
   "language": "python",
   "name": "python3"
  },
  "language_info": {
   "codemirror_mode": {
    "name": "ipython",
    "version": 3
   },
   "file_extension": ".py",
   "mimetype": "text/x-python",
   "name": "python",
   "nbconvert_exporter": "python",
   "pygments_lexer": "ipython3",
   "version": "3.7.6"
  }
 },
 "nbformat": 4,
 "nbformat_minor": 4
}
